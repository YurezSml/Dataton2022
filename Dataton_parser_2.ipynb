{
 "cells": [
  {
   "cell_type": "code",
   "execution_count": 1,
   "id": "38c23e10",
   "metadata": {},
   "outputs": [],
   "source": [
    "import pandas as pd\n",
    "import numpy as np\n",
    "\n",
    "import requests"
   ]
  },
  {
   "cell_type": "code",
   "execution_count": 2,
   "id": "f50d6642",
   "metadata": {},
   "outputs": [
    {
     "data": {
      "text/html": [
       "<div>\n",
       "<style scoped>\n",
       "    .dataframe tbody tr th:only-of-type {\n",
       "        vertical-align: middle;\n",
       "    }\n",
       "\n",
       "    .dataframe tbody tr th {\n",
       "        vertical-align: top;\n",
       "    }\n",
       "\n",
       "    .dataframe thead th {\n",
       "        text-align: right;\n",
       "    }\n",
       "</style>\n",
       "<table border=\"1\" class=\"dataframe\">\n",
       "  <thead>\n",
       "    <tr style=\"text-align: right;\">\n",
       "      <th></th>\n",
       "      <th>Unnamed: 0</th>\n",
       "      <th>Наименование</th>\n",
       "      <th>Скидка</th>\n",
       "      <th>Цена</th>\n",
       "      <th>Цена со скидкой</th>\n",
       "      <th>Бренд</th>\n",
       "      <th>feedbacks</th>\n",
       "      <th>rating</th>\n",
       "      <th>Ссылка</th>\n",
       "      <th>high_rating</th>\n",
       "      <th>memory_size</th>\n",
       "    </tr>\n",
       "  </thead>\n",
       "  <tbody>\n",
       "    <tr>\n",
       "      <th>0</th>\n",
       "      <td>0</td>\n",
       "      <td>9 5G 4  6.6\" 120 герц</td>\n",
       "      <td>36</td>\n",
       "      <td>21990</td>\n",
       "      <td>14073</td>\n",
       "      <td>Realme</td>\n",
       "      <td>1116</td>\n",
       "      <td>5</td>\n",
       "      <td>https://www.wildberries.ru/catalog/121028588/d...</td>\n",
       "      <td>1</td>\n",
       "      <td>128Gb</td>\n",
       "    </tr>\n",
       "    <tr>\n",
       "      <th>1</th>\n",
       "      <td>2</td>\n",
       "      <td>Reno 7 8</td>\n",
       "      <td>43</td>\n",
       "      <td>27990</td>\n",
       "      <td>15954</td>\n",
       "      <td>OPPO</td>\n",
       "      <td>357</td>\n",
       "      <td>5</td>\n",
       "      <td>https://www.wildberries.ru/catalog/116872732/d...</td>\n",
       "      <td>1</td>\n",
       "      <td>128Gb</td>\n",
       "    </tr>\n",
       "    <tr>\n",
       "      <th>2</th>\n",
       "      <td>3</td>\n",
       "      <td>Reno 7 8</td>\n",
       "      <td>43</td>\n",
       "      <td>27990</td>\n",
       "      <td>15954</td>\n",
       "      <td>OPPO</td>\n",
       "      <td>288</td>\n",
       "      <td>5</td>\n",
       "      <td>https://www.wildberries.ru/catalog/116872733/d...</td>\n",
       "      <td>1</td>\n",
       "      <td>128Gb</td>\n",
       "    </tr>\n",
       "    <tr>\n",
       "      <th>3</th>\n",
       "      <td>4</td>\n",
       "      <td>SMART 6 PLUS 2</td>\n",
       "      <td>40</td>\n",
       "      <td>9990</td>\n",
       "      <td>5994</td>\n",
       "      <td>Infinix</td>\n",
       "      <td>1813</td>\n",
       "      <td>5</td>\n",
       "      <td>https://www.wildberries.ru/catalog/114477948/d...</td>\n",
       "      <td>1</td>\n",
       "      <td>64Gb</td>\n",
       "    </tr>\n",
       "    <tr>\n",
       "      <th>4</th>\n",
       "      <td>5</td>\n",
       "      <td>NOTE 12 2023 8</td>\n",
       "      <td>35</td>\n",
       "      <td>22990</td>\n",
       "      <td>14943</td>\n",
       "      <td>Infinix</td>\n",
       "      <td>118</td>\n",
       "      <td>5</td>\n",
       "      <td>https://www.wildberries.ru/catalog/128728547/d...</td>\n",
       "      <td>1</td>\n",
       "      <td>256Gb</td>\n",
       "    </tr>\n",
       "    <tr>\n",
       "      <th>...</th>\n",
       "      <td>...</td>\n",
       "      <td>...</td>\n",
       "      <td>...</td>\n",
       "      <td>...</td>\n",
       "      <td>...</td>\n",
       "      <td>...</td>\n",
       "      <td>...</td>\n",
       "      <td>...</td>\n",
       "      <td>...</td>\n",
       "      <td>...</td>\n",
       "      <td>...</td>\n",
       "    </tr>\n",
       "    <tr>\n",
       "      <th>1114</th>\n",
       "      <td>2740</td>\n",
       "      <td>M5 4  6.58 FHD  MTK G99</td>\n",
       "      <td>18</td>\n",
       "      <td>16990</td>\n",
       "      <td>13931</td>\n",
       "      <td>POCO</td>\n",
       "      <td>2</td>\n",
       "      <td>5</td>\n",
       "      <td>https://www.wildberries.ru/catalog/106176120/d...</td>\n",
       "      <td>1</td>\n",
       "      <td>128Gb</td>\n",
       "    </tr>\n",
       "    <tr>\n",
       "      <th>1115</th>\n",
       "      <td>2761</td>\n",
       "      <td>Redmi 10C</td>\n",
       "      <td>31</td>\n",
       "      <td>18990</td>\n",
       "      <td>13103</td>\n",
       "      <td>Xiaomi</td>\n",
       "      <td>2</td>\n",
       "      <td>5</td>\n",
       "      <td>https://www.wildberries.ru/catalog/90422386/de...</td>\n",
       "      <td>1</td>\n",
       "      <td>64Gb</td>\n",
       "    </tr>\n",
       "    <tr>\n",
       "      <th>1116</th>\n",
       "      <td>2763</td>\n",
       "      <td>Galaxy S5 SM-G900F</td>\n",
       "      <td>0</td>\n",
       "      <td>10990</td>\n",
       "      <td>10990</td>\n",
       "      <td>Samsung</td>\n",
       "      <td>1</td>\n",
       "      <td>1</td>\n",
       "      <td>https://www.wildberries.ru/catalog/96896454/de...</td>\n",
       "      <td>0</td>\n",
       "      <td>16Gb</td>\n",
       "    </tr>\n",
       "    <tr>\n",
       "      <th>1117</th>\n",
       "      <td>2771</td>\n",
       "      <td>C25s 6,5\" 4 64гб HD  6000 мАч NFC</td>\n",
       "      <td>0</td>\n",
       "      <td>12990</td>\n",
       "      <td>12990</td>\n",
       "      <td>Realme</td>\n",
       "      <td>1</td>\n",
       "      <td>5</td>\n",
       "      <td>https://www.wildberries.ru/catalog/46016394/de...</td>\n",
       "      <td>1</td>\n",
       "      <td>NaN</td>\n",
       "    </tr>\n",
       "    <tr>\n",
       "      <th>1118</th>\n",
       "      <td>2786</td>\n",
       "      <td>10C  64Gb серый</td>\n",
       "      <td>21</td>\n",
       "      <td>15990</td>\n",
       "      <td>12632</td>\n",
       "      <td>Redmi</td>\n",
       "      <td>9</td>\n",
       "      <td>4</td>\n",
       "      <td>https://www.wildberries.ru/catalog/94669604/de...</td>\n",
       "      <td>1</td>\n",
       "      <td>3Gb</td>\n",
       "    </tr>\n",
       "  </tbody>\n",
       "</table>\n",
       "<p>1119 rows × 11 columns</p>\n",
       "</div>"
      ],
      "text/plain": [
       "      Unnamed: 0                       Наименование  Скидка   Цена  \\\n",
       "0              0              9 5G 4  6.6\" 120 герц      36  21990   \n",
       "1              2                          Reno 7 8       43  27990   \n",
       "2              3                          Reno 7 8       43  27990   \n",
       "3              4                    SMART 6 PLUS 2       40   9990   \n",
       "4              5                    NOTE 12 2023 8       35  22990   \n",
       "...          ...                                ...     ...    ...   \n",
       "1114        2740            M5 4  6.58 FHD  MTK G99      18  16990   \n",
       "1115        2761                         Redmi 10C       31  18990   \n",
       "1116        2763                Galaxy S5 SM-G900F        0  10990   \n",
       "1117        2771  C25s 6,5\" 4 64гб HD  6000 мАч NFC       0  12990   \n",
       "1118        2786                    10C  64Gb серый      21  15990   \n",
       "\n",
       "      Цена со скидкой    Бренд  feedbacks  rating  \\\n",
       "0               14073   Realme       1116       5   \n",
       "1               15954     OPPO        357       5   \n",
       "2               15954     OPPO        288       5   \n",
       "3                5994  Infinix       1813       5   \n",
       "4               14943  Infinix        118       5   \n",
       "...               ...      ...        ...     ...   \n",
       "1114            13931     POCO          2       5   \n",
       "1115            13103   Xiaomi          2       5   \n",
       "1116            10990  Samsung          1       1   \n",
       "1117            12990   Realme          1       5   \n",
       "1118            12632    Redmi          9       4   \n",
       "\n",
       "                                                 Ссылка  high_rating  \\\n",
       "0     https://www.wildberries.ru/catalog/121028588/d...            1   \n",
       "1     https://www.wildberries.ru/catalog/116872732/d...            1   \n",
       "2     https://www.wildberries.ru/catalog/116872733/d...            1   \n",
       "3     https://www.wildberries.ru/catalog/114477948/d...            1   \n",
       "4     https://www.wildberries.ru/catalog/128728547/d...            1   \n",
       "...                                                 ...          ...   \n",
       "1114  https://www.wildberries.ru/catalog/106176120/d...            1   \n",
       "1115  https://www.wildberries.ru/catalog/90422386/de...            1   \n",
       "1116  https://www.wildberries.ru/catalog/96896454/de...            0   \n",
       "1117  https://www.wildberries.ru/catalog/46016394/de...            1   \n",
       "1118  https://www.wildberries.ru/catalog/94669604/de...            1   \n",
       "\n",
       "     memory_size  \n",
       "0          128Gb  \n",
       "1          128Gb  \n",
       "2          128Gb  \n",
       "3           64Gb  \n",
       "4          256Gb  \n",
       "...          ...  \n",
       "1114       128Gb  \n",
       "1115        64Gb  \n",
       "1116        16Gb  \n",
       "1117         NaN  \n",
       "1118         3Gb  \n",
       "\n",
       "[1119 rows x 11 columns]"
      ]
     },
     "execution_count": 2,
     "metadata": {},
     "output_type": "execute_result"
    }
   ],
   "source": [
    "df = pd.read_csv('ProcessedDataset.csv')\n",
    "df"
   ]
  },
  {
   "cell_type": "code",
   "execution_count": 7,
   "id": "84c12152",
   "metadata": {},
   "outputs": [],
   "source": [
    "def get_id_from_link(link_name):\n",
    "    id_value = link_name.split('catalog/', 1)[1]\n",
    "    id_value = id_value.split('/detail', 1)[0]\n",
    "    return id_value"
   ]
  },
  {
   "cell_type": "code",
   "execution_count": 40,
   "id": "f52c0f38",
   "metadata": {},
   "outputs": [
    {
     "data": {
      "text/plain": [
       "0       121028588\n",
       "1       116872732\n",
       "2       116872733\n",
       "3       114477948\n",
       "4       128728547\n",
       "          ...    \n",
       "1114    106176120\n",
       "1115     90422386\n",
       "1116     96896454\n",
       "1117     46016394\n",
       "1118     94669604\n",
       "Name: Ссылка, Length: 1119, dtype: object"
      ]
     },
     "execution_count": 40,
     "metadata": {},
     "output_type": "execute_result"
    }
   ],
   "source": [
    "ids = df['Ссылка'].apply(get_id_from_link)\n",
    "ids"
   ]
  },
  {
   "cell_type": "code",
   "execution_count": 24,
   "id": "15305ce7",
   "metadata": {},
   "outputs": [],
   "source": [
    "def get_card_json_url(id_value):\n",
    "    url = ''\n",
    "    if len(id_value) == 7:\n",
    "        url = f'https://basket-01.wb.ru/vol{id_value[:2]}/part{id_value[:4]}/{id_value}/info/ru/card.json'\n",
    "    if len(id_value) == 8:\n",
    "        if 100 <= int(id_value[:3]) <= 144:\n",
    "            url = f'https://basket-01.wb.ru/vol{id_value[:3]}/part{id_value[:5]}/{id_value}/info/ru/card.json'\n",
    "        if 144 < int(id_value[:3]) <= 280:\n",
    "            url = f'https://basket-02.wb.ru/vol{id_value[:3]}/part{id_value[:5]}/{id_value}/info/ru/card.json'\n",
    "        if 280 < int(id_value[:3]) <= 450:\n",
    "            url = f'https://basket-03.wb.ru/vol{id_value[:3]}/part{id_value[:5]}/{id_value}/info/ru/card.json'            \n",
    "        if 450 < int(id_value[:3]) <= 736:\n",
    "            url = f'https://basket-04.wb.ru/vol{id_value[:3]}/part{id_value[:5]}/{id_value}/info/ru/card.json'            \n",
    "        if 736 < int(id_value[:3]) <= 999:\n",
    "            url = f'https://basket-05.wb.ru/vol{id_value[:3]}/part{id_value[:5]}/{id_value}/info/ru/card.json'\n",
    "\n",
    "    if len(id_value) == 9:\n",
    "        if 1000 <= int(id_value[:4]) <= 1020:\n",
    "            url = f'https://basket-05.wb.ru/vol{id_value[:4]}/part{id_value[:6]}/{id_value}/info/ru/card.json'           \n",
    "        if 1020 < int(id_value[:4]) <= 1060:\n",
    "            url = f'https://basket-06.wb.ru/vol{id_value[:4]}/part{id_value[:6]}/{id_value}/info/ru/card.json'            \n",
    "        if 1060 < int(id_value[:4]) <= 1179:\n",
    "            url = f'https://basket-08.wb.ru/vol{id_value[:4]}/part{id_value[:6]}/{id_value}/info/ru/card.json'            \n",
    "        if 1180 < int(id_value[:4]):\n",
    "            url = f'https://basket-09.wb.ru/vol{id_value[:4]}/part{id_value[:6]}/{id_value}/info/ru/card.json'            \n",
    "    return url"
   ]
  },
  {
   "cell_type": "code",
   "execution_count": 25,
   "id": "83040433",
   "metadata": {},
   "outputs": [],
   "source": [
    "def get_sales_count_url(id_value):\n",
    "    return 'https://product-order-qnt.wildberries.ru/by-nm/?nm='+id_value"
   ]
  },
  {
   "cell_type": "code",
   "execution_count": 81,
   "id": "8b1d9130",
   "metadata": {},
   "outputs": [],
   "source": [
    "def get_data_from_card_json(json_data):\n",
    "    data_dict = {}\n",
    "    data_dict['id'] = json_data['nm_id']\n",
    "    \n",
    "    curr_dict = find_dict_in_list_with_key(json_data['grouped_options'], 'Дополнительная информация')\n",
    "    data_dict['country'] = find_value_in_list_with_key(curr_dict['options'], 'Страна производства')\n",
    "    data_dict['weight'] = find_value_in_list_with_key(curr_dict['options'], 'Вес товара без упаковки (г)')        \n",
    "    data_dict['width'] = find_value_in_list_with_key(curr_dict['options'], 'Ширина предмета')    \n",
    "    data_dict['height'] = find_value_in_list_with_key(curr_dict['options'], 'Высота предмета')                \n",
    "    data_dict['thickness'] = find_value_in_list_with_key(curr_dict['options'], 'Толщина предмета')\n",
    "    \n",
    "    curr_dict = find_dict_in_list_with_key(json_data['grouped_options'], 'Экран')    \n",
    "    data_dict['screen_resol'] = find_value_in_list_with_key(curr_dict['options'], 'Разрешение экрана')\n",
    "    data_dict['screen_size'] = find_value_in_list_with_key(curr_dict['options'], 'Диагональ экрана')        \n",
    "    data_dict['screen_type'] = find_value_in_list_with_key(curr_dict['options'], 'Тип дисплея/экрана')    \n",
    "    return data_dict"
   ]
  },
  {
   "cell_type": "code",
   "execution_count": 82,
   "id": "1e255a2b",
   "metadata": {},
   "outputs": [],
   "source": [
    "def find_dict_in_list_with_key(input_list, key):\n",
    "    for curr_dict in input_list:\n",
    "        if curr_dict['group_name'] == key:\n",
    "            return curr_dict\n",
    "    return None"
   ]
  },
  {
   "cell_type": "code",
   "execution_count": 83,
   "id": "5d196ad7",
   "metadata": {},
   "outputs": [],
   "source": [
    "def find_value_in_list_with_key(input_list, key):\n",
    "    for curr_dict in input_list:\n",
    "        if curr_dict['name'] == key:\n",
    "            return curr_dict['value']\n",
    "    return None"
   ]
  },
  {
   "cell_type": "code",
   "execution_count": 84,
   "id": "878890bd",
   "metadata": {},
   "outputs": [],
   "source": [
    "data_dict = {}\n",
    "for id_num in range(3):\n",
    "    r = requests.get(get_card_json_url(ids[id_num]))\n",
    "    data = r.json()\n",
    "    curr_data_dict = get_data_from_card_json(data)\n",
    "    r = requests.get(get_sales_count_url(ids[id_num]))\n",
    "    data = r.json()\n",
    "    curr_data_dict['sales_count'] = data[0]['qnt']\n",
    "    data_dict[id_num] = curr_data_dict\n",
    "\n",
    "extended_df = pd.DataFrame.from_dict(data_dict, orient='index')"
   ]
  },
  {
   "cell_type": "code",
   "execution_count": 85,
   "id": "bbf64bb7",
   "metadata": {},
   "outputs": [
    {
     "data": {
      "text/html": [
       "<div>\n",
       "<style scoped>\n",
       "    .dataframe tbody tr th:only-of-type {\n",
       "        vertical-align: middle;\n",
       "    }\n",
       "\n",
       "    .dataframe tbody tr th {\n",
       "        vertical-align: top;\n",
       "    }\n",
       "\n",
       "    .dataframe thead th {\n",
       "        text-align: right;\n",
       "    }\n",
       "</style>\n",
       "<table border=\"1\" class=\"dataframe\">\n",
       "  <thead>\n",
       "    <tr style=\"text-align: right;\">\n",
       "      <th></th>\n",
       "      <th>id</th>\n",
       "      <th>country</th>\n",
       "      <th>weight</th>\n",
       "      <th>width</th>\n",
       "      <th>height</th>\n",
       "      <th>thickness</th>\n",
       "      <th>screen_resol</th>\n",
       "      <th>screen_size</th>\n",
       "      <th>screen_type</th>\n",
       "      <th>sales_count</th>\n",
       "    </tr>\n",
       "  </thead>\n",
       "  <tbody>\n",
       "    <tr>\n",
       "      <th>0</th>\n",
       "      <td>121028588</td>\n",
       "      <td>Китай</td>\n",
       "      <td>191 г</td>\n",
       "      <td>75.6 см</td>\n",
       "      <td>164.3 см</td>\n",
       "      <td>8.5 см</td>\n",
       "      <td>2412x1080</td>\n",
       "      <td>6.6</td>\n",
       "      <td>Super Clear LCD</td>\n",
       "      <td>8600</td>\n",
       "    </tr>\n",
       "    <tr>\n",
       "      <th>1</th>\n",
       "      <td>116872732</td>\n",
       "      <td>Китай</td>\n",
       "      <td>175 г</td>\n",
       "      <td>7.32 см</td>\n",
       "      <td>None</td>\n",
       "      <td>0.78 см</td>\n",
       "      <td>2400x1080</td>\n",
       "      <td>6.40</td>\n",
       "      <td>Безрамочный дисплей</td>\n",
       "      <td>4100</td>\n",
       "    </tr>\n",
       "    <tr>\n",
       "      <th>2</th>\n",
       "      <td>116872733</td>\n",
       "      <td>Китай</td>\n",
       "      <td>175 г</td>\n",
       "      <td>7.32 см</td>\n",
       "      <td>None</td>\n",
       "      <td>0.78 см</td>\n",
       "      <td>2400 x 1080</td>\n",
       "      <td>6.40</td>\n",
       "      <td>Безрамочный дисплей</td>\n",
       "      <td>4100</td>\n",
       "    </tr>\n",
       "  </tbody>\n",
       "</table>\n",
       "</div>"
      ],
      "text/plain": [
       "          id country weight    width    height thickness screen_resol  \\\n",
       "0  121028588   Китай  191 г  75.6 см  164.3 см    8.5 см    2412x1080   \n",
       "1  116872732   Китай  175 г  7.32 см      None   0.78 см    2400x1080   \n",
       "2  116872733   Китай  175 г  7.32 см      None   0.78 см  2400 x 1080   \n",
       "\n",
       "  screen_size          screen_type  sales_count  \n",
       "0         6.6      Super Clear LCD         8600  \n",
       "1        6.40  Безрамочный дисплей         4100  \n",
       "2        6.40  Безрамочный дисплей         4100  "
      ]
     },
     "execution_count": 85,
     "metadata": {},
     "output_type": "execute_result"
    }
   ],
   "source": [
    "extended_df"
   ]
  },
  {
   "cell_type": "code",
   "execution_count": null,
   "id": "6912c7ad",
   "metadata": {},
   "outputs": [],
   "source": []
  },
  {
   "cell_type": "code",
   "execution_count": null,
   "id": "d2f028e0",
   "metadata": {},
   "outputs": [],
   "source": []
  },
  {
   "cell_type": "code",
   "execution_count": 28,
   "id": "488a733f",
   "metadata": {},
   "outputs": [
    {
     "data": {
      "text/plain": [
       "'https://basket-09.wb.ru/vol1210/part121028/121028588/info/ru/card.json'"
      ]
     },
     "execution_count": 28,
     "metadata": {},
     "output_type": "execute_result"
    }
   ],
   "source": [
    "get_card_json_url(ids[0])"
   ]
  },
  {
   "cell_type": "markdown",
   "id": "f1110290",
   "metadata": {},
   "source": [
    "**Ниже все параметры, которые есть в card. Я вытащил только часть из них, возможно потребуется что-то еще**"
   ]
  },
  {
   "cell_type": "code",
   "execution_count": 44,
   "id": "03afbb7f",
   "metadata": {},
   "outputs": [
    {
     "name": "stdout",
     "output_type": "stream",
     "text": [
      "{'certificate': {},\n",
      " 'colors': [121028588, 121028587],\n",
      " 'contents': 'чехол; Смартфон, кабель USB type-C, зарядное устройство, '\n",
      "             'защитное стекло, инструкция по эксплуатации',\n",
      " 'data': {'chrt_ids': [213916452],\n",
      "          'skus': ['6941399096967'],\n",
      "          'subject_id': 515,\n",
      "          'subject_root_id': 6258,\n",
      "          'tech_size': '0'},\n",
      " 'description': 'огда свет попадает на realme 9 5G, корпус смартфона сияет '\n",
      "                'различными оттенками цветов, создавая постоянный '\n",
      "                'волнообразный голографический эффект. При весе 191 г. и '\n",
      "                'толщине 8,5 мм realme 9 5G легко помещается в вашей руке. Он '\n",
      "                'будет сопровождать вас, куда бы вы ни отправились.Экран '\n",
      "                'realme 9 5G с диагональю 6,6 дюйма имеет соотношение экрана к '\n",
      "                'корпусу 90,8%, для захватывающего просмотра контента. Частота '\n",
      "                'обновления 120 Гц и частота дискретизации 240 Гц делают '\n",
      "                'каждый свайп и прокрутку плавными. Благодаря встроенному '\n",
      "                'сканеру отпечатков пальцев достаточно легкого прикосновения к '\n",
      "                'кнопке питания, чтобы быстро и безопасно разблокировать '\n",
      "                'телефон.realme 9 5G работает на базе процессора Snapdragon '\n",
      "                '695 5G, обеспечивающего плавную работу. Процессор построен по '\n",
      "                'усовершенствованному 6–нм техпроцессу, его частота достигает '\n",
      "                '2,2 ГГц, что на 15% быстрее, чем у предыдущего поколения. Это '\n",
      "                'означает как более быструю работу приложений, так и более '\n",
      "                'высокую энергоэффективность.Благодаря 4 ГБ оперативной памяти '\n",
      "                'и 128 ГБ встроенной памяти вы можете хранить больше '\n",
      "                'фотографий, видео и файлов. realme 9 5G также оснащен '\n",
      "                'технологией динамического расширения оперативной памяти DRE, '\n",
      "                'что позволяет использовать дополнительные 3 ГБ виртуальной '\n",
      "                'оперативной памяти. Теперь вы можете мгновенно переключаться '\n",
      "                'между приложениями.Благодаря емкому аккумулятору на 5000 мАч '\n",
      "                'для долгого времени работы и быстрой зарядки мощностью 18 Вт, '\n",
      "                'вы сможете наслаждаться поездками без частой '\n",
      "                'подзарядки.Конфигурация тройной камеры realme 9 5G содержит: '\n",
      "                'основной 50 Мп модуль для максимальной детализации фотографий '\n",
      "                'в условиях недостаточного освещения, портретный модуль для '\n",
      "                'реализации многоуровневого эффекта боке в портретных снимках '\n",
      "                'и макромодуль для экстремально быстрых фотографий с малой '\n",
      "                'дистанции от объекта съемки.',\n",
      " 'full_colors': [{'nm_id': 121028588}, {'nm_id': 121028587}],\n",
      " 'grouped_options': [{'group_name': 'Дополнительная информация',\n",
      "                      'options': [{'name': 'Вес товара с упаковкой (г)',\n",
      "                                   'value': '450 г'},\n",
      "                                  {'name': 'Толщина предмета',\n",
      "                                   'value': '8.5 см'},\n",
      "                                  {'name': 'Вес товара без упаковки (г)',\n",
      "                                   'value': '191 г'},\n",
      "                                  {'name': 'Высота упаковки',\n",
      "                                   'value': '17.7 см'},\n",
      "                                  {'name': 'Длина упаковки', 'value': '6.9 см'},\n",
      "                                  {'name': 'Ширина упаковки', 'value': '10 см'},\n",
      "                                  {'name': 'Ширина предмета',\n",
      "                                   'value': '75.6 см'},\n",
      "                                  {'name': 'Доп. опции смартфона',\n",
      "                                   'value': 'Быстрая зарядка 18Вт'},\n",
      "                                  {'name': 'Страна производства',\n",
      "                                   'value': 'Китай'},\n",
      "                                  {'name': 'Высота предмета',\n",
      "                                   'value': '164.3 см'}]},\n",
      "                     {'group_name': 'Экран',\n",
      "                      'options': [{'name': 'Защитное покрытие экрана',\n",
      "                                   'value': 'Corning Gorilla Glass Victus; '\n",
      "                                            'Олеофобное'},\n",
      "                                  {'name': 'Разрешение экрана',\n",
      "                                   'value': '2412x1080'},\n",
      "                                  {'name': 'Диагональ экрана', 'value': '6.6'},\n",
      "                                  {'name': 'Тип дисплея/экрана',\n",
      "                                   'value': 'Super Clear LCD'}]},\n",
      "                     {'group_name': 'Память',\n",
      "                      'options': [{'name': 'Максимальный объем карты памяти',\n",
      "                                   'value': '1 ТБ'},\n",
      "                                  {'name': 'Объем встроенной памяти (Гб)',\n",
      "                                   'value': '128 GB'},\n",
      "                                  {'name': 'Объем оперативной памяти (Мб)',\n",
      "                                   'value': '4000'},\n",
      "                                  {'name': 'Тип карты памяти',\n",
      "                                   'value': 'MicroSD (до 1ТБ)'},\n",
      "                                  {'name': 'Объем оперативной памяти (Гб)',\n",
      "                                   'value': '4 GB'}]},\n",
      "                     {'group_name': 'Процессор',\n",
      "                      'options': [{'name': 'Количество ядер процессора',\n",
      "                                   'value': '8'},\n",
      "                                  {'name': 'Тактовая частота процессора',\n",
      "                                   'value': '2200 МГц'},\n",
      "                                  {'name': 'Процессор',\n",
      "                                   'value': 'Snapdragon 695'}]},\n",
      "                     {'group_name': 'Мультимедийные возможности',\n",
      "                      'options': [{'name': 'Встроенная вспышка',\n",
      "                                   'value': 'LED-вспышка'},\n",
      "                                  {'name': 'Количество мп основной камеры',\n",
      "                                   'value': '50 Мп'},\n",
      "                                  {'name': 'Основная камера (млн. пикс.)',\n",
      "                                   'value': '50 Мп'},\n",
      "                                  {'name': 'Особенности объектива',\n",
      "                                   'value': 'Портретный модуль'},\n",
      "                                  {'name': 'Фронтальная камера (млн. пикс.)',\n",
      "                                   'value': '16 Мп'},\n",
      "                                  {'name': 'Вторая основная камера (млн. '\n",
      "                                           'пикс.)',\n",
      "                                   'value': '2 Мп'},\n",
      "                                  {'name': 'Доп. опции камеры',\n",
      "                                   'value': 'Распознавание лиц; Портретный '\n",
      "                                            'режим, Ночной режим'},\n",
      "                                  {'name': 'Третья основная камера',\n",
      "                                   'value': '2 Мп'}]},\n",
      "                     {'group_name': 'Связь',\n",
      "                      'options': [{'name': 'Количество SIM карт',\n",
      "                                   'value': '2 nano SIM'},\n",
      "                                  {'name': 'Беспроводные интерфейсы',\n",
      "                                   'value': 'Bluetooth; GPS; NFC; Wi-Fi'},\n",
      "                                  {'name': 'Стандарт связи',\n",
      "                                   'value': 'GSM 1801; 2G, 3G, 5G, LTE'},\n",
      "                                  {'name': 'Спутниковая навигация',\n",
      "                                   'value': 'BeiDou , Galileo , A-GPS , GPS , '\n",
      "                                            'ГЛОНАСС'}]},\n",
      "                     {'group_name': 'Питание',\n",
      "                      'options': [{'name': 'Время работы при прослушивании '\n",
      "                                           'музыки',\n",
      "                                   'value': '122 час'},\n",
      "                                  {'name': 'Емкость аккумулятора',\n",
      "                                   'value': '5000 m*Ah'},\n",
      "                                  {'name': 'Время работы при воспроизведении '\n",
      "                                           'видео',\n",
      "                                   'value': '22 час'}]},\n",
      "                     {'group_name': 'Общие характеристики',\n",
      "                      'options': [{'name': 'Операционная система',\n",
      "                                   'value': 'Android 12'},\n",
      "                                  {'name': 'Модель', 'value': 'realme 9 5G'},\n",
      "                                  {'name': 'Тип SIM карты',\n",
      "                                   'value': 'Nano-SIM'},\n",
      "                                  {'name': 'Гарантийный срок',\n",
      "                                   'value': '1 (один) год'},\n",
      "                                  {'name': 'Версия операционной системы',\n",
      "                                   'value': 'Android 12'}]},\n",
      "                     {'group_name': 'Другие функции',\n",
      "                      'options': [{'name': 'Поддерживаемый формат',\n",
      "                                   'value': 'AAC/APE/FLAC/AMR/MID/MP3/OGG/WAV/WMA/MKA'},\n",
      "                                  {'name': 'Хрупкость', 'value': 'хрупкое'}]},\n",
      "                     {'group_name': 'Интерфейсы и разъемы',\n",
      "                      'options': [{'name': 'Вид разъема', 'value': 'typ-c'}]}],\n",
      " 'imt_id': 108437815,\n",
      " 'imt_name': 'Смартфон 9 5G 4/128Gb: 6.6\"/120 герц',\n",
      " 'media': {'has_video': True, 'photo_count': 20},\n",
      " 'nm_colors_names': 'белый',\n",
      " 'nm_id': 121028588,\n",
      " 'options': [{'name': 'Вес товара с упаковкой (г)', 'value': '450 г'},\n",
      "             {'name': 'Защитное покрытие экрана',\n",
      "              'value': 'Corning Gorilla Glass Victus; Олеофобное'},\n",
      "             {'name': 'Максимальный объем карты памяти', 'value': '1 ТБ'},\n",
      "             {'name': 'Толщина предмета', 'value': '8.5 см'},\n",
      "             {'name': 'Объем встроенной памяти (Гб)', 'value': '128 GB'},\n",
      "             {'name': 'Разрешение экрана', 'value': '2412x1080'},\n",
      "             {'name': 'Вес товара без упаковки (г)', 'value': '191 г'},\n",
      "             {'name': 'Высота упаковки', 'value': '17.7 см'},\n",
      "             {'name': 'Количество ядер процессора', 'value': '8'},\n",
      "             {'name': 'Встроенная вспышка', 'value': 'LED-вспышка'},\n",
      "             {'name': 'Объем оперативной памяти (Мб)', 'value': '4000'},\n",
      "             {'name': 'Длина упаковки', 'value': '6.9 см'},\n",
      "             {'name': 'Количество SIM карт', 'value': '2 nano SIM'},\n",
      "             {'name': 'Беспроводные интерфейсы',\n",
      "              'value': 'Bluetooth; GPS; NFC; Wi-Fi'},\n",
      "             {'name': 'Диагональ экрана', 'value': '6.6'},\n",
      "             {'name': 'Ширина упаковки', 'value': '10 см'},\n",
      "             {'name': 'Время работы при прослушивании музыки',\n",
      "              'value': '122 час'},\n",
      "             {'name': 'Операционная система', 'value': 'Android 12'},\n",
      "             {'name': 'Количество мп основной камеры', 'value': '50 Мп'},\n",
      "             {'name': 'Поддерживаемый формат',\n",
      "              'value': 'AAC/APE/FLAC/AMR/MID/MP3/OGG/WAV/WMA/MKA'},\n",
      "             {'name': 'Тактовая частота процессора', 'value': '2200 МГц'},\n",
      "             {'name': 'Вид разъема', 'value': 'typ-c'},\n",
      "             {'name': 'Тип дисплея/экрана', 'value': 'Super Clear LCD'},\n",
      "             {'name': 'Основная камера (млн. пикс.)', 'value': '50 Мп'},\n",
      "             {'name': 'Модель', 'value': 'realme 9 5G'},\n",
      "             {'name': 'Ширина предмета', 'value': '75.6 см'},\n",
      "             {'name': 'Тип SIM карты', 'value': 'Nano-SIM'},\n",
      "             {'name': 'Особенности объектива', 'value': 'Портретный модуль'},\n",
      "             {'name': 'Хрупкость', 'value': 'хрупкое'},\n",
      "             {'name': 'Емкость аккумулятора', 'value': '5000 m*Ah'},\n",
      "             {'name': 'Стандарт связи', 'value': 'GSM 1801; 2G, 3G, 5G, LTE'},\n",
      "             {'name': 'Фронтальная камера (млн. пикс.)', 'value': '16 Мп'},\n",
      "             {'name': 'Вторая основная камера (млн. пикс.)', 'value': '2 Мп'},\n",
      "             {'name': 'Тип карты памяти', 'value': 'MicroSD (до 1ТБ)'},\n",
      "             {'name': 'Гарантийный срок', 'value': '1 (один) год'},\n",
      "             {'name': 'Объем оперативной памяти (Гб)', 'value': '4 GB'},\n",
      "             {'name': 'Версия операционной системы', 'value': 'Android 12'},\n",
      "             {'name': 'Доп. опции камеры',\n",
      "              'value': 'Распознавание лиц; Портретный режим, Ночной режим'},\n",
      "             {'name': 'Спутниковая навигация',\n",
      "              'value': 'BeiDou , Galileo , A-GPS , GPS , ГЛОНАСС'},\n",
      "             {'name': 'Доп. опции смартфона', 'value': 'Быстрая зарядка 18Вт'},\n",
      "             {'name': 'Третья основная камера', 'value': '2 Мп'},\n",
      "             {'name': 'Страна производства', 'value': 'Китай'},\n",
      "             {'name': 'Процессор', 'value': 'Snapdragon 695'},\n",
      "             {'name': 'Время работы при воспроизведении видео',\n",
      "              'value': '22 час'},\n",
      "             {'name': 'Высота предмета', 'value': '164.3 см'}],\n",
      " 'selling': {'brand_name': 'Realme',\n",
      "             'no_return_map': 4351,\n",
      "             'supplier_id': 95334},\n",
      " 'subj_name': 'Смартфоны',\n",
      " 'subj_root_name': 'Смартфоны и аксессуары',\n",
      " 'vendor_code': '6046592/6052986'}\n"
     ]
    }
   ],
   "source": [
    "from pprint import pprint\n",
    "\n",
    "r_1 = requests.get(get_card_json_url(ids[0]))\n",
    "data_1 = r_1.json()\n",
    "pprint(data_1)"
   ]
  },
  {
   "cell_type": "code",
   "execution_count": 74,
   "id": "0068178d",
   "metadata": {},
   "outputs": [
    {
     "name": "stdout",
     "output_type": "stream",
     "text": [
      "{'certificate': {},\n",
      " 'colors': [116872732],\n",
      " 'contents': 'смартфон; гарантийный талон; адаптер питания; Кабель USB Type-C; '\n",
      "             'Скрепка для извлечения SIM-карты',\n",
      " 'data': {'chrt_ids': [208698743],\n",
      "          'skus': ['6932169307437'],\n",
      "          'subject_id': 515,\n",
      "          'subject_root_id': 6258,\n",
      "          'tech_size': '0'},\n",
      " 'description': 'Мое безграничное творчество! Великолепный OPPO Reno7 оснащен '\n",
      "                'сверхчувствительной селфи-камерой с датчиком изображения '\n",
      "                'IMX709 и портретным режимом с эффектом Bokeh Flare. Стильный '\n",
      "                'внешний вид благодаря новому дизайну корпуса с имитацией кожи '\n",
      "                'и ультратонкому ретродизайну. Долговечность и качество OPPO '\n",
      "                'гарантируют безупречную работу и удобство пользования.',\n",
      " 'full_colors': [{'nm_id': 116872732}],\n",
      " 'grouped_options': [{'group_name': 'Дополнительная информация',\n",
      "                      'options': [{'name': 'Высота упаковки',\n",
      "                                   'value': '5.6 см'},\n",
      "                                  {'name': 'Длина упаковки',\n",
      "                                   'value': '17.3 см'},\n",
      "                                  {'name': 'Ширина упаковки',\n",
      "                                   'value': '9.3 см'},\n",
      "                                  {'name': 'Вес товара без упаковки (г)',\n",
      "                                   'value': '175 г'},\n",
      "                                  {'name': 'Вес товара с упаковкой (г)',\n",
      "                                   'value': '510 г'},\n",
      "                                  {'name': 'Страна производства',\n",
      "                                   'value': 'Китай'},\n",
      "                                  {'name': 'Толщина предмета',\n",
      "                                   'value': '0.78 см'},\n",
      "                                  {'name': 'Ширина предмета',\n",
      "                                   'value': '7.32 см'}]},\n",
      "                     {'group_name': 'Связь',\n",
      "                      'options': [{'name': 'Беспроводные интерфейсы',\n",
      "                                   'value': 'NFC; Wi-Fi; Bluetooth; GPS'},\n",
      "                                  {'name': 'Количество SIM карт',\n",
      "                                   'value': '2'}]},\n",
      "                     {'group_name': 'Общие характеристики',\n",
      "                      'options': [{'name': 'Версия операционной системы',\n",
      "                                   'value': 'ColorOS 12 на базе Android 12'},\n",
      "                                  {'name': 'Модель', 'value': 'Reno7'},\n",
      "                                  {'name': 'Операционная система',\n",
      "                                   'value': 'Android'},\n",
      "                                  {'name': 'Гарантийный срок',\n",
      "                                   'value': '1 год'},\n",
      "                                  {'name': 'Степень пылевлагозащиты',\n",
      "                                   'value': 'IP54'},\n",
      "                                  {'name': 'Тип SIM карты',\n",
      "                                   'value': 'Nano-SIM'}]},\n",
      "                     {'group_name': 'Интерфейсы и разъемы',\n",
      "                      'options': [{'name': 'Вид разъема',\n",
      "                                   'value': 'Type - C; Jack 3,5 mm'}]},\n",
      "                     {'group_name': 'Экран',\n",
      "                      'options': [{'name': 'Диагональ экрана', 'value': '6.40'},\n",
      "                                  {'name': 'Разрешение экрана',\n",
      "                                   'value': '2400x1080'},\n",
      "                                  {'name': 'Тип дисплея/экрана',\n",
      "                                   'value': 'Безрамочный дисплей'},\n",
      "                                  {'name': 'Защитное покрытие экрана',\n",
      "                                   'value': 'Gorilla Glass 5'}]},\n",
      "                     {'group_name': 'Процессор',\n",
      "                      'options': [{'name': 'Количество ядер процессора',\n",
      "                                   'value': '8'},\n",
      "                                  {'name': 'Процессор',\n",
      "                                   'value': 'Snapdragon 680 (8 ядер)'}]},\n",
      "                     {'group_name': 'Память',\n",
      "                      'options': [{'name': 'Объем встроенной памяти (Гб)',\n",
      "                                   'value': '128'},\n",
      "                                  {'name': 'Объем оперативной памяти (Гб)',\n",
      "                                   'value': '8'},\n",
      "                                  {'name': 'Максимальный объем карты памяти',\n",
      "                                   'value': '1 ТБ'},\n",
      "                                  {'name': 'Тип карты памяти',\n",
      "                                   'value': 'Micro SD'}]},\n",
      "                     {'group_name': 'Мультимедийные возможности',\n",
      "                      'options': [{'name': 'Встроенная вспышка',\n",
      "                                   'value': 'есть'},\n",
      "                                  {'name': 'Вторая основная камера (млн. '\n",
      "                                           'пикс.)',\n",
      "                                   'value': '2 Мп'},\n",
      "                                  {'name': 'Доп. опции камеры',\n",
      "                                   'value': 'Микроскоп'},\n",
      "                                  {'name': 'Количество мп основной камеры',\n",
      "                                   'value': '64 Мп'},\n",
      "                                  {'name': 'Основная камера (млн. пикс.)',\n",
      "                                   'value': '64 Мп'},\n",
      "                                  {'name': 'Фронтальная камера (млн. пикс.)',\n",
      "                                   'value': '32 Мп'}]},\n",
      "                     {'group_name': 'Питание',\n",
      "                      'options': [{'name': 'Емкость аккумулятора',\n",
      "                                   'value': '4500.00'}]},\n",
      "                     {'group_name': 'Другие функции',\n",
      "                      'options': [{'name': 'Хрупкость',\n",
      "                                   'value': 'не давить; не бросать; Хрупкий '\n",
      "                                            '(надежно упаковано).'}]}],\n",
      " 'imt_id': 105338245,\n",
      " 'imt_name': 'Смартфон OPPO Reno 7 8+128 Гб',\n",
      " 'media': {'has_video': True, 'photo_count': 19},\n",
      " 'nm_colors_names': 'оранжевый',\n",
      " 'nm_id': 116872732,\n",
      " 'options': [{'name': 'Высота упаковки', 'value': '5.6 см'},\n",
      "             {'name': 'Длина упаковки', 'value': '17.3 см'},\n",
      "             {'name': 'Ширина упаковки', 'value': '9.3 см'},\n",
      "             {'name': 'Беспроводные интерфейсы',\n",
      "              'value': 'NFC; Wi-Fi; Bluetooth; GPS'},\n",
      "             {'name': 'Версия операционной системы',\n",
      "              'value': 'ColorOS 12 на базе Android 12'},\n",
      "             {'name': 'Вид разъема', 'value': 'Type - C; Jack 3,5 mm'},\n",
      "             {'name': 'Диагональ экрана', 'value': '6.40'},\n",
      "             {'name': 'Количество SIM карт', 'value': '2'},\n",
      "             {'name': 'Количество ядер процессора', 'value': '8'},\n",
      "             {'name': 'Модель', 'value': 'Reno7'},\n",
      "             {'name': 'Объем встроенной памяти (Гб)', 'value': '128'},\n",
      "             {'name': 'Объем оперативной памяти (Гб)', 'value': '8'},\n",
      "             {'name': 'Операционная система', 'value': 'Android'},\n",
      "             {'name': 'Процессор', 'value': 'Snapdragon 680 (8 ядер)'},\n",
      "             {'name': 'Разрешение экрана', 'value': '2400x1080'},\n",
      "             {'name': 'Тип дисплея/экрана', 'value': 'Безрамочный дисплей'},\n",
      "             {'name': 'Вес товара без упаковки (г)', 'value': '175 г'},\n",
      "             {'name': 'Вес товара с упаковкой (г)', 'value': '510 г'},\n",
      "             {'name': 'Встроенная вспышка', 'value': 'есть'},\n",
      "             {'name': 'Вторая основная камера (млн. пикс.)', 'value': '2 Мп'},\n",
      "             {'name': 'Гарантийный срок', 'value': '1 год'},\n",
      "             {'name': 'Доп. опции камеры', 'value': 'Микроскоп'},\n",
      "             {'name': 'Емкость аккумулятора', 'value': '4500.00'},\n",
      "             {'name': 'Защитное покрытие экрана', 'value': 'Gorilla Glass 5'},\n",
      "             {'name': 'Количество мп основной камеры', 'value': '64 Мп'},\n",
      "             {'name': 'Максимальный объем карты памяти', 'value': '1 ТБ'},\n",
      "             {'name': 'Основная камера (млн. пикс.)', 'value': '64 Мп'},\n",
      "             {'name': 'Степень пылевлагозащиты', 'value': 'IP54'},\n",
      "             {'name': 'Страна производства', 'value': 'Китай'},\n",
      "             {'name': 'Тип SIM карты', 'value': 'Nano-SIM'},\n",
      "             {'name': 'Тип карты памяти', 'value': 'Micro SD'},\n",
      "             {'name': 'Толщина предмета', 'value': '0.78 см'},\n",
      "             {'name': 'Фронтальная камера (млн. пикс.)', 'value': '32 Мп'},\n",
      "             {'name': 'Хрупкость',\n",
      "              'value': 'не давить; не бросать; Хрупкий (надежно упаковано).'},\n",
      "             {'name': 'Ширина предмета', 'value': '7.32 см'}],\n",
      " 'selling': {'brand_name': 'OPPO',\n",
      "             'no_return_map': 4351,\n",
      "             'supplier_id': 177378},\n",
      " 'subj_name': 'Смартфоны',\n",
      " 'subj_root_name': 'Смартфоны и аксессуары',\n",
      " 'vendor_code': '6041174OPP-2363.8-128.OR'}\n"
     ]
    }
   ],
   "source": [
    "r_1 = requests.get(get_card_json_url(ids[1]))\n",
    "data_1 = r_1.json()\n",
    "pprint(data_1)"
   ]
  },
  {
   "cell_type": "code",
   "execution_count": 49,
   "id": "08ec6a64",
   "metadata": {},
   "outputs": [
    {
     "data": {
      "text/plain": [
       "{'group_name': 'Дополнительная информация',\n",
       " 'options': [{'name': 'Вес товара с упаковкой (г)', 'value': '450 г'},\n",
       "  {'name': 'Толщина предмета', 'value': '8.5 см'},\n",
       "  {'name': 'Вес товара без упаковки (г)', 'value': '191 г'},\n",
       "  {'name': 'Высота упаковки', 'value': '17.7 см'},\n",
       "  {'name': 'Длина упаковки', 'value': '6.9 см'},\n",
       "  {'name': 'Ширина упаковки', 'value': '10 см'},\n",
       "  {'name': 'Ширина предмета', 'value': '75.6 см'},\n",
       "  {'name': 'Доп. опции смартфона', 'value': 'Быстрая зарядка 18Вт'},\n",
       "  {'name': 'Страна производства', 'value': 'Китай'},\n",
       "  {'name': 'Высота предмета', 'value': '164.3 см'}]}"
      ]
     },
     "execution_count": 49,
     "metadata": {},
     "output_type": "execute_result"
    }
   ],
   "source": [
    "data_1['grouped_options'][0]"
   ]
  },
  {
   "cell_type": "code",
   "execution_count": 63,
   "id": "1fd0690e",
   "metadata": {},
   "outputs": [
    {
     "data": {
      "text/plain": [
       "'8.5 см'"
      ]
     },
     "execution_count": 63,
     "metadata": {},
     "output_type": "execute_result"
    }
   ],
   "source": [
    "find_dict_in_list_with_key(data_1['grouped_options'][0]['options'], 'Толщина предмета')"
   ]
  },
  {
   "cell_type": "code",
   "execution_count": 50,
   "id": "19bdc3ab",
   "metadata": {},
   "outputs": [
    {
     "data": {
      "text/plain": [
       "{'group_name': 'Экран',\n",
       " 'options': [{'name': 'Защитное покрытие экрана',\n",
       "   'value': 'Corning Gorilla Glass Victus; Олеофобное'},\n",
       "  {'name': 'Разрешение экрана', 'value': '2412x1080'},\n",
       "  {'name': 'Диагональ экрана', 'value': '6.6'},\n",
       "  {'name': 'Тип дисплея/экрана', 'value': 'Super Clear LCD'}]}"
      ]
     },
     "execution_count": 50,
     "metadata": {},
     "output_type": "execute_result"
    }
   ],
   "source": [
    "data_1['grouped_options'][1]"
   ]
  },
  {
   "cell_type": "code",
   "execution_count": 51,
   "id": "493560fd",
   "metadata": {},
   "outputs": [
    {
     "data": {
      "text/plain": [
       "{'group_name': 'Память',\n",
       " 'options': [{'name': 'Максимальный объем карты памяти', 'value': '1 ТБ'},\n",
       "  {'name': 'Объем встроенной памяти (Гб)', 'value': '128 GB'},\n",
       "  {'name': 'Объем оперативной памяти (Мб)', 'value': '4000'},\n",
       "  {'name': 'Тип карты памяти', 'value': 'MicroSD (до 1ТБ)'},\n",
       "  {'name': 'Объем оперативной памяти (Гб)', 'value': '4 GB'}]}"
      ]
     },
     "execution_count": 51,
     "metadata": {},
     "output_type": "execute_result"
    }
   ],
   "source": [
    "data_1['grouped_options'][2]"
   ]
  },
  {
   "cell_type": "code",
   "execution_count": 52,
   "id": "33a31bba",
   "metadata": {},
   "outputs": [
    {
     "data": {
      "text/plain": [
       "{'group_name': 'Процессор',\n",
       " 'options': [{'name': 'Количество ядер процессора', 'value': '8'},\n",
       "  {'name': 'Тактовая частота процессора', 'value': '2200 МГц'},\n",
       "  {'name': 'Процессор', 'value': 'Snapdragon 695'}]}"
      ]
     },
     "execution_count": 52,
     "metadata": {},
     "output_type": "execute_result"
    }
   ],
   "source": [
    "data_1['grouped_options'][3]"
   ]
  },
  {
   "cell_type": "code",
   "execution_count": 53,
   "id": "34d6bd20",
   "metadata": {},
   "outputs": [
    {
     "data": {
      "text/plain": [
       "{'group_name': 'Мультимедийные возможности',\n",
       " 'options': [{'name': 'Встроенная вспышка', 'value': 'LED-вспышка'},\n",
       "  {'name': 'Количество мп основной камеры', 'value': '50 Мп'},\n",
       "  {'name': 'Основная камера (млн. пикс.)', 'value': '50 Мп'},\n",
       "  {'name': 'Особенности объектива', 'value': 'Портретный модуль'},\n",
       "  {'name': 'Фронтальная камера (млн. пикс.)', 'value': '16 Мп'},\n",
       "  {'name': 'Вторая основная камера (млн. пикс.)', 'value': '2 Мп'},\n",
       "  {'name': 'Доп. опции камеры',\n",
       "   'value': 'Распознавание лиц; Портретный режим, Ночной режим'},\n",
       "  {'name': 'Третья основная камера', 'value': '2 Мп'}]}"
      ]
     },
     "execution_count": 53,
     "metadata": {},
     "output_type": "execute_result"
    }
   ],
   "source": [
    "data_1['grouped_options'][4]"
   ]
  },
  {
   "cell_type": "code",
   "execution_count": 54,
   "id": "5c3daf99",
   "metadata": {},
   "outputs": [
    {
     "data": {
      "text/plain": [
       "{'group_name': 'Связь',\n",
       " 'options': [{'name': 'Количество SIM карт', 'value': '2 nano SIM'},\n",
       "  {'name': 'Беспроводные интерфейсы', 'value': 'Bluetooth; GPS; NFC; Wi-Fi'},\n",
       "  {'name': 'Стандарт связи', 'value': 'GSM 1801; 2G, 3G, 5G, LTE'},\n",
       "  {'name': 'Спутниковая навигация',\n",
       "   'value': 'BeiDou , Galileo , A-GPS , GPS , ГЛОНАСС'}]}"
      ]
     },
     "execution_count": 54,
     "metadata": {},
     "output_type": "execute_result"
    }
   ],
   "source": [
    "data_1['grouped_options'][5]"
   ]
  },
  {
   "cell_type": "code",
   "execution_count": 55,
   "id": "fceca373",
   "metadata": {},
   "outputs": [
    {
     "data": {
      "text/plain": [
       "{'group_name': 'Питание',\n",
       " 'options': [{'name': 'Время работы при прослушивании музыки',\n",
       "   'value': '122 час'},\n",
       "  {'name': 'Емкость аккумулятора', 'value': '5000 m*Ah'},\n",
       "  {'name': 'Время работы при воспроизведении видео', 'value': '22 час'}]}"
      ]
     },
     "execution_count": 55,
     "metadata": {},
     "output_type": "execute_result"
    }
   ],
   "source": [
    "data_1['grouped_options'][6]"
   ]
  },
  {
   "cell_type": "code",
   "execution_count": 56,
   "id": "a864804e",
   "metadata": {},
   "outputs": [
    {
     "data": {
      "text/plain": [
       "{'group_name': 'Общие характеристики',\n",
       " 'options': [{'name': 'Операционная система', 'value': 'Android 12'},\n",
       "  {'name': 'Модель', 'value': 'realme 9 5G'},\n",
       "  {'name': 'Тип SIM карты', 'value': 'Nano-SIM'},\n",
       "  {'name': 'Гарантийный срок', 'value': '1 (один) год'},\n",
       "  {'name': 'Версия операционной системы', 'value': 'Android 12'}]}"
      ]
     },
     "execution_count": 56,
     "metadata": {},
     "output_type": "execute_result"
    }
   ],
   "source": [
    "data_1['grouped_options'][7]"
   ]
  },
  {
   "cell_type": "code",
   "execution_count": 57,
   "id": "4e196074",
   "metadata": {},
   "outputs": [
    {
     "data": {
      "text/plain": [
       "{'group_name': 'Другие функции',\n",
       " 'options': [{'name': 'Поддерживаемый формат',\n",
       "   'value': 'AAC/APE/FLAC/AMR/MID/MP3/OGG/WAV/WMA/MKA'},\n",
       "  {'name': 'Хрупкость', 'value': 'хрупкое'}]}"
      ]
     },
     "execution_count": 57,
     "metadata": {},
     "output_type": "execute_result"
    }
   ],
   "source": [
    "data_1['grouped_options'][8]"
   ]
  },
  {
   "cell_type": "code",
   "execution_count": 58,
   "id": "6c1f3a6b",
   "metadata": {},
   "outputs": [
    {
     "data": {
      "text/plain": [
       "{'group_name': 'Интерфейсы и разъемы',\n",
       " 'options': [{'name': 'Вид разъема', 'value': 'typ-c'}]}"
      ]
     },
     "execution_count": 58,
     "metadata": {},
     "output_type": "execute_result"
    }
   ],
   "source": [
    "data_1['grouped_options'][9]"
   ]
  },
  {
   "cell_type": "code",
   "execution_count": 59,
   "id": "457c8b09",
   "metadata": {},
   "outputs": [
    {
     "data": {
      "text/plain": [
       "[{'name': 'Вес товара с упаковкой (г)', 'value': '450 г'},\n",
       " {'name': 'Защитное покрытие экрана',\n",
       "  'value': 'Corning Gorilla Glass Victus; Олеофобное'},\n",
       " {'name': 'Максимальный объем карты памяти', 'value': '1 ТБ'},\n",
       " {'name': 'Толщина предмета', 'value': '8.5 см'},\n",
       " {'name': 'Объем встроенной памяти (Гб)', 'value': '128 GB'},\n",
       " {'name': 'Разрешение экрана', 'value': '2412x1080'},\n",
       " {'name': 'Вес товара без упаковки (г)', 'value': '191 г'},\n",
       " {'name': 'Высота упаковки', 'value': '17.7 см'},\n",
       " {'name': 'Количество ядер процессора', 'value': '8'},\n",
       " {'name': 'Встроенная вспышка', 'value': 'LED-вспышка'},\n",
       " {'name': 'Объем оперативной памяти (Мб)', 'value': '4000'},\n",
       " {'name': 'Длина упаковки', 'value': '6.9 см'},\n",
       " {'name': 'Количество SIM карт', 'value': '2 nano SIM'},\n",
       " {'name': 'Беспроводные интерфейсы', 'value': 'Bluetooth; GPS; NFC; Wi-Fi'},\n",
       " {'name': 'Диагональ экрана', 'value': '6.6'},\n",
       " {'name': 'Ширина упаковки', 'value': '10 см'},\n",
       " {'name': 'Время работы при прослушивании музыки', 'value': '122 час'},\n",
       " {'name': 'Операционная система', 'value': 'Android 12'},\n",
       " {'name': 'Количество мп основной камеры', 'value': '50 Мп'},\n",
       " {'name': 'Поддерживаемый формат',\n",
       "  'value': 'AAC/APE/FLAC/AMR/MID/MP3/OGG/WAV/WMA/MKA'},\n",
       " {'name': 'Тактовая частота процессора', 'value': '2200 МГц'},\n",
       " {'name': 'Вид разъема', 'value': 'typ-c'},\n",
       " {'name': 'Тип дисплея/экрана', 'value': 'Super Clear LCD'},\n",
       " {'name': 'Основная камера (млн. пикс.)', 'value': '50 Мп'},\n",
       " {'name': 'Модель', 'value': 'realme 9 5G'},\n",
       " {'name': 'Ширина предмета', 'value': '75.6 см'},\n",
       " {'name': 'Тип SIM карты', 'value': 'Nano-SIM'},\n",
       " {'name': 'Особенности объектива', 'value': 'Портретный модуль'},\n",
       " {'name': 'Хрупкость', 'value': 'хрупкое'},\n",
       " {'name': 'Емкость аккумулятора', 'value': '5000 m*Ah'},\n",
       " {'name': 'Стандарт связи', 'value': 'GSM 1801; 2G, 3G, 5G, LTE'},\n",
       " {'name': 'Фронтальная камера (млн. пикс.)', 'value': '16 Мп'},\n",
       " {'name': 'Вторая основная камера (млн. пикс.)', 'value': '2 Мп'},\n",
       " {'name': 'Тип карты памяти', 'value': 'MicroSD (до 1ТБ)'},\n",
       " {'name': 'Гарантийный срок', 'value': '1 (один) год'},\n",
       " {'name': 'Объем оперативной памяти (Гб)', 'value': '4 GB'},\n",
       " {'name': 'Версия операционной системы', 'value': 'Android 12'},\n",
       " {'name': 'Доп. опции камеры',\n",
       "  'value': 'Распознавание лиц; Портретный режим, Ночной режим'},\n",
       " {'name': 'Спутниковая навигация',\n",
       "  'value': 'BeiDou , Galileo , A-GPS , GPS , ГЛОНАСС'},\n",
       " {'name': 'Доп. опции смартфона', 'value': 'Быстрая зарядка 18Вт'},\n",
       " {'name': 'Третья основная камера', 'value': '2 Мп'},\n",
       " {'name': 'Страна производства', 'value': 'Китай'},\n",
       " {'name': 'Процессор', 'value': 'Snapdragon 695'},\n",
       " {'name': 'Время работы при воспроизведении видео', 'value': '22 час'},\n",
       " {'name': 'Высота предмета', 'value': '164.3 см'}]"
      ]
     },
     "execution_count": 59,
     "metadata": {},
     "output_type": "execute_result"
    }
   ],
   "source": [
    "data_1['options']"
   ]
  },
  {
   "cell_type": "code",
   "execution_count": null,
   "id": "348e2adc",
   "metadata": {},
   "outputs": [],
   "source": []
  },
  {
   "cell_type": "code",
   "execution_count": null,
   "id": "29efcbf6",
   "metadata": {},
   "outputs": [],
   "source": []
  },
  {
   "cell_type": "code",
   "execution_count": null,
   "id": "3631260d",
   "metadata": {},
   "outputs": [],
   "source": []
  },
  {
   "cell_type": "code",
   "execution_count": null,
   "id": "aa607530",
   "metadata": {},
   "outputs": [],
   "source": []
  },
  {
   "cell_type": "code",
   "execution_count": 42,
   "id": "382fa1e6",
   "metadata": {},
   "outputs": [
    {
     "data": {
      "text/plain": [
       "121028588"
      ]
     },
     "execution_count": 42,
     "metadata": {},
     "output_type": "execute_result"
    }
   ],
   "source": [
    "data_1['nm_id']"
   ]
  },
  {
   "cell_type": "code",
   "execution_count": 37,
   "id": "593f3868",
   "metadata": {},
   "outputs": [
    {
     "name": "stdout",
     "output_type": "stream",
     "text": [
      "[{'nmId': 121028588, 'qnt': 8600}]\n"
     ]
    }
   ],
   "source": [
    "r_2 = requests.get(get_sales_count_url(ids[0]))\n",
    "data_2 = r_2.json()\n",
    "print(data_2)"
   ]
  }
 ],
 "metadata": {
  "kernelspec": {
   "display_name": "Python 3",
   "language": "python",
   "name": "python3"
  },
  "language_info": {
   "codemirror_mode": {
    "name": "ipython",
    "version": 3
   },
   "file_extension": ".py",
   "mimetype": "text/x-python",
   "name": "python",
   "nbconvert_exporter": "python",
   "pygments_lexer": "ipython3",
   "version": "3.9.13"
  }
 },
 "nbformat": 4,
 "nbformat_minor": 5
}
