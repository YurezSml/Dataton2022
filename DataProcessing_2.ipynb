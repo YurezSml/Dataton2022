{
 "cells": [
  {
   "cell_type": "code",
   "execution_count": 1,
   "metadata": {},
   "outputs": [],
   "source": [
    "import pandas as pd\n",
    "import numpy as np\n",
    "import seaborn as sns\n",
    "import matplotlib.pyplot as plt\n",
    "import re\n",
    "#import warnings\n",
    "#warnings.filterwarnings(\"ignore\")"
   ]
  },
  {
   "cell_type": "code",
   "execution_count": 2,
   "metadata": {},
   "outputs": [],
   "source": [
    "df_base = pd.read_csv('Dataset_final_V4.csv')"
   ]
  },
  {
   "cell_type": "code",
   "execution_count": 3,
   "metadata": {},
   "outputs": [
    {
     "name": "stdout",
     "output_type": "stream",
     "text": [
      "<class 'pandas.core.frame.DataFrame'>\n",
      "RangeIndex: 1119 entries, 0 to 1118\n",
      "Data columns (total 35 columns):\n",
      " #   Column          Non-Null Count  Dtype  \n",
      "---  ------          --------------  -----  \n",
      " 0   name            1118 non-null   object \n",
      " 1   discount        1119 non-null   int64  \n",
      " 2   price           1119 non-null   int64  \n",
      " 3   discount_price  1119 non-null   int64  \n",
      " 4   brand           1119 non-null   object \n",
      " 5   feedbacks       1119 non-null   int64  \n",
      " 6   rating          1119 non-null   int64  \n",
      " 7   link            1119 non-null   object \n",
      " 8   high_rating     1119 non-null   int64  \n",
      " 9   memory_size     1119 non-null   int64  \n",
      " 10  country         1038 non-null   object \n",
      " 11  weight          881 non-null    float64\n",
      " 12  width           811 non-null    float64\n",
      " 13  height          828 non-null    float64\n",
      " 14  thickness       741 non-null    float64\n",
      " 15  screen_resol    1028 non-null   object \n",
      " 16  screen_size_y   1068 non-null   float64\n",
      " 17  screen_type     971 non-null    object \n",
      " 18  MaxSDMemory     584 non-null    float64\n",
      " 19  RAM             1119 non-null   float64\n",
      " 20  OperSystem      968 non-null    object \n",
      " 21  SIMType         983 non-null    object \n",
      " 22  Warranty        992 non-null    object \n",
      " 23  CPUType         1001 non-null   object \n",
      " 24  CPUFreq         708 non-null    object \n",
      " 25  CPUCores        1115 non-null   float64\n",
      " 26  MainCameraMP    1119 non-null   int64  \n",
      " 27  FrontCameraMP   1119 non-null   int64  \n",
      " 28  SIMNumber       1103 non-null   float64\n",
      " 29  Wireless        1012 non-null   object \n",
      " 30  CommunicStand   960 non-null    object \n",
      " 31  SatelliteNavig  908 non-null    object \n",
      " 32  Battery         1119 non-null   int64  \n",
      " 33  InterfaceType   1006 non-null   object \n",
      " 34  sales_count     1119 non-null   int64  \n",
      "dtypes: float64(9), int64(11), object(15)\n",
      "memory usage: 306.1+ KB\n"
     ]
    }
   ],
   "source": [
    "df_base.info()"
   ]
  },
  {
   "cell_type": "markdown",
   "metadata": {},
   "source": [
    "Пропущенные значения в столбце **'country'** заменим на **'no data'**"
   ]
  },
  {
   "cell_type": "code",
   "execution_count": 4,
   "metadata": {},
   "outputs": [],
   "source": [
    "df_base = df_base.fillna(value = {'country' : 'no data'})"
   ]
  },
  {
   "cell_type": "markdown",
   "metadata": {},
   "source": [
    "В столбце **'name'** есть 20 значений с названием Смартфон, заменим их ручным поиском на корректное название модели телефона"
   ]
  },
  {
   "cell_type": "code",
   "execution_count": 5,
   "metadata": {},
   "outputs": [
    {
     "data": {
      "text/plain": [
       "Смартфон                        20\n",
       "Galaxy A13                      14\n",
       "Galaxy A53 5G                   13\n",
       "Galaxy A23                      13\n",
       "Galaxy A33 5G                   13\n",
       "                                ..\n",
       "POP 6 Pro 2                      1\n",
       "Armor X5 Black                   1\n",
       "V23e 6.44\", 12                   1\n",
       "Spark Go 2022, детский режим     1\n",
       "10C  64Gb серый                  1\n",
       "Name: name, Length: 768, dtype: int64"
      ]
     },
     "execution_count": 5,
     "metadata": {},
     "output_type": "execute_result"
    }
   ],
   "source": [
    "df_base.name.value_counts()"
   ]
  },
  {
   "cell_type": "code",
   "execution_count": 6,
   "metadata": {},
   "outputs": [],
   "source": [
    "def find_data(dicts, col):\n",
    "    for key, value in zip(dicts.keys(), dicts.values()):\n",
    "        df_base[col].iloc[key] = value"
   ]
  },
  {
   "cell_type": "code",
   "execution_count": 7,
   "metadata": {},
   "outputs": [],
   "source": [
    "name_values = {91: 'Wildfire E Lite', 173: 'Galaxy A52', 251: 'Galaxy A02', 399: 'K15 Plus', \n",
    "               527: 'K15 Plus', 627: 'WP12 Pro', 683: 'SMART 6', 690: 'WP12 Pro', 727: 'K15 Plus', \n",
    "               764: 'Galaxy S22 Ultra', 777: '8 Pro', 778: '9', 823: 'Redmi 9c', 825: 'K15 Plus', \n",
    "               836: 'SMART 6', 850: 'SMART 6', 852: 'SMART 6', 991: '50 Lite', 1029: 'A27', 1067: 'Spark Go 2022'\n",
    "}"
   ]
  },
  {
   "cell_type": "code",
   "execution_count": 9,
   "metadata": {
    "scrolled": true
   },
   "outputs": [
    {
     "name": "stderr",
     "output_type": "stream",
     "text": [
      "C:\\Users\\glebychgame\\AppData\\Local\\Temp\\ipykernel_21980\\3272460884.py:3: SettingWithCopyWarning: \n",
      "A value is trying to be set on a copy of a slice from a DataFrame\n",
      "\n",
      "See the caveats in the documentation: https://pandas.pydata.org/pandas-docs/stable/user_guide/indexing.html#returning-a-view-versus-a-copy\n",
      "  df_base[col].iloc[key] = value\n"
     ]
    }
   ],
   "source": [
    "find_data(name_values, 'name')"
   ]
  },
  {
   "cell_type": "markdown",
   "metadata": {},
   "source": [
    "Преобразуем некорректные названия моделей телефонов **'name'** к единому формату (сделал не до конца, вручную менять непосильно много значений)"
   ]
  },
  {
   "cell_type": "code",
   "execution_count": 10,
   "metadata": {},
   "outputs": [
    {
     "data": {
      "text/plain": [
       "Galaxy A13                      14\n",
       "Galaxy A33 5G                   13\n",
       "Galaxy A23                      13\n",
       "Galaxy A53 5G                   13\n",
       "Galaxy S22 Ultra 5G             12\n",
       "                                ..\n",
       "V23e 6.44\", 12                   1\n",
       "Spark Go 2022, детский режим     1\n",
       "А55 4                            1\n",
       "C31 3  серебристый               1\n",
       "10C  64Gb серый                  1\n",
       "Name: name, Length: 778, dtype: int64"
      ]
     },
     "execution_count": 10,
     "metadata": {},
     "output_type": "execute_result"
    }
   ],
   "source": [
    "df_base.name.value_counts()"
   ]
  },
  {
   "cell_type": "code",
   "execution_count": 11,
   "metadata": {},
   "outputs": [],
   "source": [
    "df_base = df_base.replace({'name': {'Galaxy S22  5G ': 'Galaxy S22', 'iPhone 13  (СНГ)': 'iPhone 13', \n",
    "                                    'iPhone 12  (АЗИЯ)': 'iPhone 12', 'iPhone 13  (Япония)': 'iPhone 13', \n",
    "                                    'iPhone SE  (СНГ)': 'iPhone SE', 'iPhone 11  (Азия)': 'iPhone 11', \n",
    "                                    'Galaxy A53 5G 6.5\" ': 'Galaxy A53 5G', 'iPhone 13 Pro Max  (СНГ)': 'iPhone 13 Pro Max', \n",
    "                                    'iPhone 13  (США)': 'iPhone 13', 'iPhone 12 ': 'iPhone 12', \n",
    "                                    'iPhone 14 Pro  (nano-SIM   eSIM)': 'iPhone 14 Pro', 'C40  32Gb': 'POCO C40', \n",
    "                                    'M4 5G 6  NFC': 'POCO M4 5G', 'Galaxy S22 Ultra 5G ': 'Galaxy S22 Ultra', \n",
    "                                    'Galaxy S22 5G ': 'Galaxy S22', 'Galaxy Z Flip4 5G ': 'Galaxy Z Flip4', \n",
    "                                    'Galaxy Z Fold4 5G ': 'Galaxy Z Fold4', 'HOT 20i 4 ': 'HOT 20i', \n",
    "                                    'C33 4 ': 'C33', '6061L Slim IPS 6\"': '6061L Slim', 'Redmi 9C 3  NFC': 'Redmi 9C NFC', \n",
    "                                    '5046L Choice 5\"': '5046L Choice LTE', 'Y33s 2109 6.58\"  128Gb': 'Vivo Y33s', \n",
    "                                    'Apple iPhone 14 Pro Max ': 'iPhone 14 Pro Max', '9 5G 4  6.4\" 120Гц': '9 5G', \n",
    "                                    '5565L Fest IPS 5,45\"': '5565L Fest', '6353L Joy IPS 6,26\"': '6353L Joy', \n",
    "                                    '12 Lite 8 ': '12 Lite', 'X4 Pro  256Gb': 'POCO X4 Pro 5G', 'Redmi 10C  128Gb': 'Redmi 10C', \n",
    "                                    'X7  128Gb': 'X7', '12T Pro RU': '12T Pro', '5060L Basic 5\"': '5060L Basic', \n",
    "                                    'Redmi 10C 4 ': 'Redmi 10C', 'M5s  128Gb': 'POCO M5s', 'NOTE 12 6 ': 'NOTE 12', \n",
    "                                    'A48 6.1\" 2 32гб Android 10 3000 mAh 2 sim 1640x720': 'A48', 'Galaxy A13 3 ': 'A13', \n",
    "                                    'Camon 19 Pro 8 ': 'Camon 19 Pro', 'Galaxy S21 FE 5G ': 'Galaxy S21 FE', \n",
    "                                    'Galaxy S21 FE ': 'Galaxy S21 FE', 'iPhone 14 Pro Max  (nano-SIM   eSIM)': 'iPhone 14 Pro Max', \n",
    "                                    'С35 зеленый 2408x1080 6.6\" 4  5000 мАч': 'C35', 'Narzo 50i Prime 5000 мАч 6.5\"': 'Narzo 50i Prime', \n",
    "                                    'Spark 8C 6.6\" 4 ': 'Spark 8C', 'Pova POP 6 PRO ': 'POP 6 PRO', \n",
    "                                    'iPhone 13 Pro 1Tb (СНГ)': 'iPhone 13 Pro', 'Apple Apple iPhone 14  айфон 14': 'iPhone 14', \n",
    "                                    'X4 GT 6.6\"FHD  8  NFC Ростест голубой': 'X4 GT', \n",
    "                                    'Redmi Note 11 Pro 5G  12 6.67\" 1080 x 2400…': 'Redmi Note 11 Pro 5G'}})"
   ]
  },
  {
   "cell_type": "code",
   "execution_count": 12,
   "metadata": {},
   "outputs": [
    {
     "data": {
      "text/plain": [
       "Galaxy S22                      19\n",
       "iPhone 13                       15\n",
       "Galaxy A13                      14\n",
       "Galaxy A23                      13\n",
       "Galaxy A53 5G                   13\n",
       "                                ..\n",
       "POP 6 Pro 2                      1\n",
       "Armor X5 Black                   1\n",
       "V23e 6.44\", 12                   1\n",
       "Spark Go 2022, детский режим     1\n",
       "10C  64Gb серый                  1\n",
       "Name: name, Length: 768, dtype: int64"
      ]
     },
     "execution_count": 12,
     "metadata": {},
     "output_type": "execute_result"
    }
   ],
   "source": [
    "df_base.name.value_counts()"
   ]
  },
  {
   "cell_type": "markdown",
   "metadata": {},
   "source": [
    "Вручную добавлям значения **weight** вместо пропущенных значений (тоже сделал не до конца из-за большого количества ручной работы)"
   ]
  },
  {
   "cell_type": "code",
   "execution_count": 13,
   "metadata": {},
   "outputs": [],
   "source": [
    "#df_base[df_base.weight.isna()][['name', 'brand', 'memory_size', 'weight', 'link']].iloc[39:60]"
   ]
  },
  {
   "cell_type": "code",
   "execution_count": 14,
   "metadata": {},
   "outputs": [],
   "source": [
    "wight_values = {6: 228.0, 15: 228.0, 45: 203.0, 49: 204.0, 51: 198.7, 71: 118.0, 88: 179.5, \n",
    "                95: 193.0, 97: 179.0, 100: 280.0, 107: 201.0, 108: 201.0, 109: 196.0, 135: 203.0, \n",
    "                137: 203.0, 146: 197.0, 151: 173.0, 154: 189.0, 156: 188.0, 158: 189.0, 164: 196.0, \n",
    "                165: 189.0, 169: 196.0, 172: 173.0, 174: 173.0, 180: 209.0, 183: 209.0, 185: 170.0, \n",
    "                189: 193.0, 197: 195.0, 203: 199.0, 204: 189.0, 210: 178.0, 222: 205.0, 223: 184.0, \n",
    "                237: 205.0, 251: 206.0, 257: 184.5, 264: 178.0, 294: 203.0, 302: 358.0, 310: 492.0,\n",
    "                321: 167.0, 326: 175.0\n",
    "}"
   ]
  },
  {
   "cell_type": "code",
   "execution_count": 21,
   "metadata": {},
   "outputs": [],
   "source": [
    "#df_base['link'].iloc[264]"
   ]
  },
  {
   "cell_type": "code",
   "execution_count": 15,
   "metadata": {},
   "outputs": [
    {
     "name": "stderr",
     "output_type": "stream",
     "text": [
      "C:\\Users\\glebychgame\\AppData\\Local\\Temp\\ipykernel_21980\\3272460884.py:3: SettingWithCopyWarning: \n",
      "A value is trying to be set on a copy of a slice from a DataFrame\n",
      "\n",
      "See the caveats in the documentation: https://pandas.pydata.org/pandas-docs/stable/user_guide/indexing.html#returning-a-view-versus-a-copy\n",
      "  df_base[col].iloc[key] = value\n"
     ]
    }
   ],
   "source": [
    "find_data(wight_values, 'weight')"
   ]
  },
  {
   "cell_type": "markdown",
   "metadata": {},
   "source": [
    "Изменим некорректные **'SIMType'**, приведем к единому формату"
   ]
  },
  {
   "cell_type": "code",
   "execution_count": 16,
   "metadata": {
    "scrolled": true
   },
   "outputs": [
    {
     "data": {
      "text/plain": [
       "Nano-SIM                          639\n",
       "nano SIM                          165\n",
       "NanoSIM                            89\n",
       "nano                               22\n",
       "nano sim                            7\n",
       "Micro-SIM                           7\n",
       "nano sim; e-sim                     6\n",
       "Micro-SIM; Nano-SIM                 5\n",
       "нано-SIM                            5\n",
       "micro SIM+nano SIM                  4\n",
       "nano SIM; e-Sim                     4\n",
       "2                                   3\n",
       "micro SIM                           3\n",
       "Стандартная SIM                     3\n",
       "nano SIM; Apple SIM; micro SIM      2\n",
       "nano SIM; eSim                      2\n",
       "Nano-SIM (4FF)                      2\n",
       "eSim                                2\n",
       "nano‑SIM и eSIM                     1\n",
       "Nano-SIM; eSim                      1\n",
       "Dual SIM (nano-SIM)                 1\n",
       "nanoSIM                             1\n",
       "eSim; nano SIM                      1\n",
       "нано сим-карта                      1\n",
       "Nano-SIM; NanoSIM                   1\n",
       "micro SIM; nano SIM                 1\n",
       "nano SIM; micro SIM                 1\n",
       "nanoSIM+nanoSIM                     1\n",
       "nano- Sim                           1\n",
       "Dual Nano SIM Cards                 1\n",
       "e-Sim                               1\n",
       "Name: SIMType, dtype: int64"
      ]
     },
     "execution_count": 16,
     "metadata": {},
     "output_type": "execute_result"
    }
   ],
   "source": [
    "df_base.SIMType.value_counts()"
   ]
  },
  {
   "cell_type": "code",
   "execution_count": 17,
   "metadata": {},
   "outputs": [],
   "source": [
    "df_base = df_base.replace({'SIMType': {'nano SIM': 'Nano-SIM', 'NanoSIM': 'Nano-SIM', 'nano': 'Nano-SIM', \n",
    "                                       'nano sim': 'Nano-SIM', 'нано-SIM': 'Nano-SIM', 'micro SIM+nano SIM': 'Micro-SIM; Nano-SIM', \n",
    "                                       'nano sim; e-sim': 'Nano-SIM; e-Sim', '2': 'no data', 'micro SIM': 'Micro-SIM', \n",
    "                                       'nano SIM; eSim': 'Nano-SIM; e-Sim', 'Nano-SIM (4FF)': 'Nano-SIM', \n",
    "                                       'nano‑SIM и eSIM': 'Nano-SIM; e-Sim', 'Nano-SIM; eSim': 'Nano-SIM; e-Sim', \n",
    "                                       'Dual SIM (nano-SIM)': 'Dual Nano-SIM', 'nanoSIM': 'Nano-SIM', \n",
    "                                       'eSim; nano SIM': 'Nano-SIM; e-Sim', 'нано сим-карта': 'Nano-SIM', \n",
    "                                       'Nano-SIM; NanoSIM': 'Dual Nano-SIM', 'micro SIM; nano SIM': 'Micro-SIM; Nano-SIM', \n",
    "                                       'nano SIM; micro SIM': 'Micro-SIM; Nano-SIM', 'nanoSIM+nanoSIM': 'Dual Nano-SIM', \n",
    "                                       'nano- Sim': 'Nano-SIM', 'Dual Nano SIM Cards': 'Dual Nano-SIM', 'eSim': 'e-Sim', \n",
    "                                       'nano SIM; Apple SIM; micro SIM': 'Nano-SIM; Apple-SIM; Micro-SIM', \n",
    "                                       'nano SIM; e-Sim': 'Nano-SIM; e-Sim'}})"
   ]
  },
  {
   "cell_type": "code",
   "execution_count": 18,
   "metadata": {},
   "outputs": [
    {
     "data": {
      "text/plain": [
       "Nano-SIM                          932\n",
       "Nano-SIM; e-Sim                    15\n",
       "Micro-SIM; Nano-SIM                11\n",
       "Micro-SIM                          10\n",
       "Dual Nano-SIM                       4\n",
       "Стандартная SIM                     3\n",
       "no data                             3\n",
       "e-Sim                               3\n",
       "Nano-SIM; Apple-SIM; Micro-SIM      2\n",
       "Name: SIMType, dtype: int64"
      ]
     },
     "execution_count": 18,
     "metadata": {},
     "output_type": "execute_result"
    }
   ],
   "source": [
    "df_base.SIMType.value_counts()"
   ]
  },
  {
   "cell_type": "markdown",
   "metadata": {},
   "source": [
    "Обработаем столбец **'brand'**. Модели POCO, Redmi и MI принадлежат Xiaomi, предлагаю сделать подсказку в виде добавления тега Xiaomi"
   ]
  },
  {
   "cell_type": "code",
   "execution_count": 19,
   "metadata": {
    "scrolled": true
   },
   "outputs": [
    {
     "data": {
      "text/plain": [
       "Samsung        240\n",
       "Xiaomi         176\n",
       "Apple          114\n",
       "Realme          87\n",
       "TECNO           66\n",
       "Infinix         60\n",
       "POCO            59\n",
       "BQ              40\n",
       "Redmi           38\n",
       "ITEL            37\n",
       "VIVO            22\n",
       "Ulefone         20\n",
       "Huawei          16\n",
       "Honor           15\n",
       "Nokia           14\n",
       "Oukitel         14\n",
       "OPPO            12\n",
       "DOOGEE           9\n",
       "Blackview        9\n",
       "Black Shark      7\n",
       "MI               7\n",
       "ZTE              6\n",
       "IIIF150          6\n",
       "INOI             6\n",
       "HTC              5\n",
       "OnePlus          3\n",
       "UMIDIGI          3\n",
       "Poco Case        3\n",
       "Coolpad          3\n",
       "Alcatel          3\n",
       "Caterpillar      3\n",
       "TCL              2\n",
       "Highscreen       2\n",
       "AYYA             2\n",
       "One Plus         2\n",
       "Sony             2\n",
       "Jinga            1\n",
       "NUBIA            1\n",
       "Ayala            1\n",
       "Irbis            1\n",
       "BLACK FOX        1\n",
       "Google           1\n",
       "Name: brand, dtype: int64"
      ]
     },
     "execution_count": 19,
     "metadata": {},
     "output_type": "execute_result"
    }
   ],
   "source": [
    "df_base.brand.value_counts()"
   ]
  },
  {
   "cell_type": "code",
   "execution_count": 20,
   "metadata": {},
   "outputs": [],
   "source": [
    "df_base = df_base.replace({'brand': {'POCO': 'Xiaomi POCO', 'Redmi': 'Xiaomi Redmi', 'MI': 'Xiaomi MI', 'One Plus': 'OnePlus'}})"
   ]
  },
  {
   "cell_type": "code",
   "execution_count": 21,
   "metadata": {},
   "outputs": [
    {
     "data": {
      "text/plain": [
       "128     432\n",
       "64      257\n",
       "32      192\n",
       "256     138\n",
       "16       49\n",
       "512      25\n",
       "8         8\n",
       "1024      6\n",
       "4         3\n",
       "0         3\n",
       "126       2\n",
       "124       1\n",
       "1         1\n",
       "12        1\n",
       "114       1\n",
       "Name: memory_size, dtype: int64"
      ]
     },
     "execution_count": 21,
     "metadata": {},
     "output_type": "execute_result"
    }
   ],
   "source": [
    "df_base.memory_size.value_counts()"
   ]
  },
  {
   "cell_type": "markdown",
   "metadata": {},
   "source": [
    "Преобразуем стобец **'screen_resol'** (*например 2412х1080 в список [2412,1080]*) и сохраним в новый столбец **'screen'**"
   ]
  },
  {
   "cell_type": "code",
   "execution_count": 22,
   "metadata": {},
   "outputs": [],
   "source": [
    "df_base['screen'] = df_base['screen_resol'].str.findall(r'(\\d+(?:\\.\\d+)?)')\n",
    "df_base['resolution'] = 0\n",
    "df_base['proportion'] = 0.0"
   ]
  },
  {
   "cell_type": "markdown",
   "metadata": {},
   "source": [
    "В новый столбец **'resolution'** занесем полное разрешение экрана 2412х1080 = **2604960** , а в столбец **'proportion'** отношение высоты экрана в px к ширине."
   ]
  },
  {
   "cell_type": "code",
   "execution_count": 24,
   "metadata": {},
   "outputs": [],
   "source": [
    "for n, i in enumerate(df_base['screen']):\n",
    "    if type(i) == list and i != [] and i != ['6.78']:\n",
    "        df_base['resolution'][n] = int(i[0])*int(i[1])\n",
    "        df_base['proportion'][n] = float(i[0])/float(i[1])"
   ]
  },
  {
   "cell_type": "code",
   "execution_count": 25,
   "metadata": {},
   "outputs": [],
   "source": [
    "df_base = df_base.drop(columns=['screen'])"
   ]
  },
  {
   "cell_type": "code",
   "execution_count": 70,
   "metadata": {},
   "outputs": [],
   "source": [
    "def change_column_order(df, col_name, index):\n",
    "    cols = df.columns.tolist()\n",
    "    cols.remove(col_name)\n",
    "    cols.insert(index, col_name)\n",
    "    return df[cols]"
   ]
  },
  {
   "cell_type": "code",
   "execution_count": 71,
   "metadata": {},
   "outputs": [],
   "source": [
    "df_base = change_column_order(df_base, 'sales_count', 36)"
   ]
  },
  {
   "cell_type": "code",
   "execution_count": 72,
   "metadata": {},
   "outputs": [
    {
     "name": "stdout",
     "output_type": "stream",
     "text": [
      "<class 'pandas.core.frame.DataFrame'>\n",
      "RangeIndex: 1119 entries, 0 to 1118\n",
      "Data columns (total 37 columns):\n",
      " #   Column          Non-Null Count  Dtype  \n",
      "---  ------          --------------  -----  \n",
      " 0   name            1118 non-null   object \n",
      " 1   discount        1119 non-null   int64  \n",
      " 2   price           1119 non-null   int64  \n",
      " 3   discount_price  1119 non-null   int64  \n",
      " 4   brand           1119 non-null   object \n",
      " 5   feedbacks       1119 non-null   int64  \n",
      " 6   rating          1119 non-null   int64  \n",
      " 7   link            1119 non-null   object \n",
      " 8   high_rating     1119 non-null   int64  \n",
      " 9   memory_size     1119 non-null   int64  \n",
      " 10  country         1119 non-null   object \n",
      " 11  weight          925 non-null    float64\n",
      " 12  width           811 non-null    float64\n",
      " 13  height          828 non-null    float64\n",
      " 14  thickness       741 non-null    float64\n",
      " 15  screen_resol    1028 non-null   object \n",
      " 16  screen_size_y   1068 non-null   float64\n",
      " 17  screen_type     971 non-null    object \n",
      " 18  MaxSDMemory     584 non-null    float64\n",
      " 19  RAM             1119 non-null   float64\n",
      " 20  OperSystem      968 non-null    object \n",
      " 21  SIMType         983 non-null    object \n",
      " 22  Warranty        992 non-null    object \n",
      " 23  CPUType         1001 non-null   object \n",
      " 24  CPUFreq         708 non-null    object \n",
      " 25  CPUCores        1115 non-null   float64\n",
      " 26  MainCameraMP    1119 non-null   int64  \n",
      " 27  FrontCameraMP   1119 non-null   int64  \n",
      " 28  SIMNumber       1103 non-null   float64\n",
      " 29  Wireless        1012 non-null   object \n",
      " 30  CommunicStand   960 non-null    object \n",
      " 31  SatelliteNavig  908 non-null    object \n",
      " 32  Battery         1119 non-null   int64  \n",
      " 33  InterfaceType   1006 non-null   object \n",
      " 34  resolution      1119 non-null   int64  \n",
      " 35  proportion      1119 non-null   float64\n",
      " 36  sales_count     1119 non-null   int64  \n",
      "dtypes: float64(10), int64(12), object(15)\n",
      "memory usage: 323.6+ KB\n"
     ]
    }
   ],
   "source": [
    "df_base.info()"
   ]
  },
  {
   "cell_type": "markdown",
   "metadata": {},
   "source": [
    "В столбце **'Warranty'** преобразуем данные в числовой формат: сколько месяцев гарантии. "
   ]
  },
  {
   "cell_type": "code",
   "execution_count": 73,
   "metadata": {},
   "outputs": [],
   "source": [
    "#df_base['Warranty'] = df_base['Warranty'].replace(np.nan, '0')\n",
    "df_base['Warranty'] = df_base['Warranty'].str.extract('(\\d+)').astype(float)\n",
    "df_base = df_base.replace({'Warranty': {1.0: 12.0, 2.0: 24.0}})"
   ]
  },
  {
   "cell_type": "code",
   "execution_count": 74,
   "metadata": {},
   "outputs": [],
   "source": [
    "df_base = df_base.replace({'Warranty': {1.0: 12.0, 2.0: 24.0}})"
   ]
  },
  {
   "cell_type": "code",
   "execution_count": 76,
   "metadata": {},
   "outputs": [
    {
     "data": {
      "text/plain": [
       "12.0    931\n",
       "24.0     17\n",
       "13.0     17\n",
       "60.0      8\n",
       "6.0       5\n",
       "30.0      1\n",
       "90.0      1\n",
       "Name: Warranty, dtype: int64"
      ]
     },
     "execution_count": 76,
     "metadata": {},
     "output_type": "execute_result"
    }
   ],
   "source": [
    "df_base['Warranty'].value_counts()"
   ]
  },
  {
   "cell_type": "markdown",
   "metadata": {},
   "source": [
    "Сохраним изменения в датасете в наш файл **Dataset_final_V4.csv**"
   ]
  },
  {
   "cell_type": "code",
   "execution_count": 78,
   "metadata": {},
   "outputs": [],
   "source": [
    "df_base.to_csv('Dataset_final_V4.csv')"
   ]
  },
  {
   "cell_type": "code",
   "execution_count": null,
   "metadata": {},
   "outputs": [],
   "source": []
  }
 ],
 "metadata": {
  "kernelspec": {
   "display_name": "Python 3 (ipykernel)",
   "language": "python",
   "name": "python3"
  },
  "language_info": {
   "codemirror_mode": {
    "name": "ipython",
    "version": 3
   },
   "file_extension": ".py",
   "mimetype": "text/x-python",
   "name": "python",
   "nbconvert_exporter": "python",
   "pygments_lexer": "ipython3",
   "version": "3.9.12"
  }
 },
 "nbformat": 4,
 "nbformat_minor": 2
}
